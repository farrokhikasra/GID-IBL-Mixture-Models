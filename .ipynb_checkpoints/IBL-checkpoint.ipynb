{
 "cells": [
  {
   "cell_type": "code",
   "execution_count": 98,
   "metadata": {},
   "outputs": [],
   "source": [
    "from scipy.special import gamma \n",
    "import pandas as pd\n",
    "import math\n",
    "import numpy as np"
   ]
  },
  {
   "cell_type": "code",
   "execution_count": 256,
   "metadata": {},
   "outputs": [],
   "source": [
    "# 4.1 formula\n",
    "def inverted_beta_liouville(xi, alphai, ai, bi, landai):\n",
    "    sum_alphai = 0\n",
    "    sum_xi = 0\n",
    "    for i in range(len(xi)):\n",
    "        sum_alphai += alphai[i]\n",
    "        sum_xi += xi[i]\n",
    "        \n",
    "    p = gamma(sum_alphai) * gamma(ai + bi) / (gamma(ai) * gamma(bi))\n",
    "    for l in range(len(xi)):\n",
    "        p *= (pow(xi[l], alphai[l] - 1) / gamma(alphai[l])) * pow(landai, bi) * pow(sum_xi, ai-sum_alphai) * pow(landai + sum_xi, -ai - bi)\n",
    "    \n",
    "    return p"
   ]
  },
  {
   "cell_type": "code",
   "execution_count": 257,
   "metadata": {},
   "outputs": [],
   "source": [
    "# 4.5 formula\n",
    "def ibl_liklihood_function(x, alpha, a, b, landa, pi):\n",
    "    ibl_liklihood = 0\n",
    "    for j in range(len(x.index)):\n",
    "        for i in range(len(a)):\n",
    "            ibl_liklihood += pi[i] * inverted_beta_liouville(x.loc[j, :], alpha.loc[j, :], a[i], b[i], landa[i])\n",
    "    return ibl_liklihood"
   ]
  },
  {
   "cell_type": "code",
   "execution_count": 258,
   "metadata": {},
   "outputs": [],
   "source": [
    "# 4.7 formula\n",
    "def con_probability_latent_variables(pi, z, m):\n",
    "    p = 1\n",
    "    for i in range(len(z.index)):\n",
    "        for j in range(m):\n",
    "            p *= pow(pi[j], z[i][j])\n",
    "    return p"
   ]
  },
  {
   "cell_type": "code",
   "execution_count": 259,
   "metadata": {},
   "outputs": [],
   "source": [
    "# 4.9, 4.10, 4.11, 4.12 formula\n",
    "def gamma_distribution(ajl, ujl, vjl):\n",
    "    return pow(vjl, ujl) * pow(alj, ujl-1) * math.exp(-vjl * ajl) / gamma(ujl)"
   ]
  },
  {
   "cell_type": "code",
   "execution_count": 263,
   "metadata": {},
   "outputs": [],
   "source": [
    "#4.8 formula\n",
    "def ibl_with_clusters(x, alpha, a, b, landa, z):\n",
    "    ibl_liklihood = 0\n",
    "    for j in range(len(x.index)):\n",
    "        for i in range(len(a)):\n",
    "            ibl_liklihood += pow(inverted_beta_liouville(x.loc[j, :], alpha.loc[j, :], a[i], b[i], landa[i]), z[j, i])\n",
    "    return ibl_liklihood"
   ]
  },
  {
   "cell_type": "code",
   "execution_count": 265,
   "metadata": {},
   "outputs": [],
   "source": [
    "#4.8 formula with condition\n",
    "def ibl_with_clusters(x, alpha, a, b, landa, z):\n",
    "    ibl_liklihood = 0\n",
    "    for j in range(len(x.index)):\n",
    "        for i in range(len(a)):\n",
    "            ibl_liklihood *= pow(inverted_beta_liouville(x.loc[j, :], alpha.loc[j, :], a[i], b[i], landa[i]), z[j, i]) # just multiplied\n",
    "    return ibl_liklihood\n"
   ]
  },
  {
   "cell_type": "code",
   "execution_count": null,
   "metadata": {},
   "outputs": [],
   "source": []
  },
  {
   "cell_type": "code",
   "execution_count": null,
   "metadata": {},
   "outputs": [],
   "source": []
  },
  {
   "cell_type": "code",
   "execution_count": 264,
   "metadata": {},
   "outputs": [
    {
     "name": "stdout",
     "output_type": "stream",
     "text": [
      "0.005070800263913006\n"
     ]
    }
   ],
   "source": [
    "yi = np.array([[0.25, 0.35, 0.5], [0.1, 0.6, 0.3], [0.30, 0.45, 0.25]])\n",
    "y = pd.DataFrame(yi)\n",
    "a = [1, 2, 3, 4]\n",
    "b = [3, 2, 1, 5]\n",
    "landa = [4, 3, 1, 2]\n",
    "pi = [0.3, 0.35, 0.25, 0.1]\n",
    "alpha = pd.DataFrame(np.array([[3, 2, 1], [3, 1, 2], [2, 3, 1]]))\n",
    "z = pd.DataFrame(np.array([[0, 0, 1], [1, 0, 0], [0, 1, 0]]))\n",
    "\n",
    "print(ibl_liklihood_function(y, alpha, a, b, landa, pi))"
   ]
  },
  {
   "cell_type": "code",
   "execution_count": null,
   "metadata": {},
   "outputs": [],
   "source": []
  }
 ],
 "metadata": {
  "kernelspec": {
   "display_name": "Python 3",
   "language": "python",
   "name": "python3"
  },
  "language_info": {
   "codemirror_mode": {
    "name": "ipython",
    "version": 3
   },
   "file_extension": ".py",
   "mimetype": "text/x-python",
   "name": "python",
   "nbconvert_exporter": "python",
   "pygments_lexer": "ipython3",
   "version": "3.7.6"
  }
 },
 "nbformat": 4,
 "nbformat_minor": 4
}
