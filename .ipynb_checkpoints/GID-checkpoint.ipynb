{
 "cells": [
  {
   "cell_type": "code",
   "execution_count": 126,
   "metadata": {},
   "outputs": [],
   "source": [
    "from scipy.special import gamma \n",
    "import pandas as pd\n",
    "import math\n",
    "import numpy as np"
   ]
  },
  {
   "cell_type": "code",
   "execution_count": 127,
   "metadata": {},
   "outputs": [],
   "source": [
    "# 3.1 formula\n",
    "def generalized_inverted_dir(yi, aj, bj):\n",
    "    p = 1\n",
    "    sum_yi = 0\n",
    "    \n",
    "    for yl in yi:\n",
    "        sum_yi += yl\n",
    "    \n",
    "    for d in range(len(aj)):\n",
    "        p *= gamma(aj[d] + bj[d])/(gamma(aj[d]) * gamma(bj[d]))\n",
    "        p *= pow(yi[d], aj[d]-1)/pow(1 + sum_yi, bj[d] + aj[d])\n",
    "    \n",
    "    return p"
   ]
  },
  {
   "cell_type": "code",
   "execution_count": 128,
   "metadata": {},
   "outputs": [],
   "source": [
    "# 3.2 formula\n",
    "def gid_mixturemodel(yi, a, b, pi):\n",
    "    gid_mix = 0\n",
    "    for i in range(len(a.index)):\n",
    "        gid_mix += pi[i] * generalized_inverted_dir(yi, a.loc[i,:], b.loc[i,:])\n",
    "    return gid_mix"
   ]
  },
  {
   "cell_type": "code",
   "execution_count": 138,
   "metadata": {},
   "outputs": [],
   "source": [
    "# 3.3 formula\n",
    "def gid_liklihood_function(x, a, b, pi):\n",
    "    gid_liklihood = 1\n",
    "    for i in range(len(x.index)):\n",
    "        gid_liklihood *= gid_mixturemodel(x.loc[i, :], a, b, pi)\n",
    "    return gid_liklihood"
   ]
  },
  {
   "cell_type": "code",
   "execution_count": 139,
   "metadata": {},
   "outputs": [],
   "source": [
    "# 2.5 formula\n",
    "def con_probability_latent_variables(pi, z, m):\n",
    "    p = 1\n",
    "    for i in range(len(z.index)):\n",
    "        for j in range(m):\n",
    "            p *= pow(pi[j], z[i][j])\n",
    "    return p"
   ]
  },
  {
   "cell_type": "code",
   "execution_count": 140,
   "metadata": {},
   "outputs": [],
   "source": [
    "def gamma_distribution(ajl, ujl, vjl):\n",
    "    return pow(vjl, ujl) * pow(alj, ujl-1) * math.exp(-vjl * ajl) / gamma(ujl)"
   ]
  },
  {
   "cell_type": "code",
   "execution_count": 141,
   "metadata": {},
   "outputs": [
    {
     "name": "stdout",
     "output_type": "stream",
     "text": [
      "1.0964631866376528e-10\n"
     ]
    },
    {
     "data": {
      "text/plain": [
       "2"
      ]
     },
     "execution_count": 141,
     "metadata": {},
     "output_type": "execute_result"
    }
   ],
   "source": [
    "yi = np.array([[0.25, 0.35, 0.5], [0.1, 0.6, 0.3], [0.30, 0.45, 0.25]])\n",
    "y = pd.DataFrame(yi)\n",
    "aj = np.array([[1, 2, 3], [2,1,3]])\n",
    "a = pd.DataFrame(aj)\n",
    "bj = np.array([[3, 2, 1], [3,1,2]])\n",
    "b = pd.DataFrame(bj)\n",
    "pi = [0.25, 0.50, 0.25]\n",
    "print(gid_liklihood_function(y, a, b, pi))\n",
    "len(a.index)"
   ]
  },
  {
   "cell_type": "code",
   "execution_count": null,
   "metadata": {},
   "outputs": [],
   "source": []
  },
  {
   "cell_type": "code",
   "execution_count": null,
   "metadata": {},
   "outputs": [],
   "source": []
  }
 ],
 "metadata": {
  "kernelspec": {
   "display_name": "Python 3",
   "language": "python",
   "name": "python3"
  },
  "language_info": {
   "codemirror_mode": {
    "name": "ipython",
    "version": 3
   },
   "file_extension": ".py",
   "mimetype": "text/x-python",
   "name": "python",
   "nbconvert_exporter": "python",
   "pygments_lexer": "ipython3",
   "version": "3.7.6"
  }
 },
 "nbformat": 4,
 "nbformat_minor": 4
}
